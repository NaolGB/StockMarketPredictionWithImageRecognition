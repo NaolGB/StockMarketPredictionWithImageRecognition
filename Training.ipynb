{
  "cells": [
    {
      "cell_type": "code",
      "execution_count": 10,
      "metadata": {
        "id": "zaiRhN9tLFBV"
      },
      "outputs": [],
      "source": [
        "import pandas as pd\n",
        "import numpy as np\n",
        "import matplotlib.pyplot as plt\n",
        "import seaborn as sns\n",
        "from PIL import Image\n",
        "import os\n",
        "from numpy import asarray\n",
        "import re\n",
        "from sklearn.model_selection import train_test_split\n",
        "import csv"
      ]
    },
    {
      "cell_type": "code",
      "execution_count": 11,
      "metadata": {
        "id": "6ZMsEa2eMAxi"
      },
      "outputs": [],
      "source": [
        "# companyValues = pd.read_csv('CompanyValues.csv')"
      ]
    },
    {
      "cell_type": "code",
      "execution_count": 12,
      "metadata": {
        "id": "oPXANw7yNnZw"
      },
      "outputs": [],
      "source": [
        "# companyValues['change'] = 100 * ((companyValues['close_value'] - companyValues['open_value']) / companyValues['open_value'])"
      ]
    },
    {
      "cell_type": "code",
      "execution_count": 13,
      "metadata": {
        "colab": {
          "base_uri": "https://localhost:8080/",
          "height": 206
        },
        "id": "6WZXHNkjLxW3",
        "outputId": "96afae7c-6c3c-4ac8-d8d8-531da367567a"
      },
      "outputs": [],
      "source": [
        "# companyValues.head()"
      ]
    },
    {
      "cell_type": "code",
      "execution_count": 14,
      "metadata": {
        "colab": {
          "base_uri": "https://localhost:8080/"
        },
        "id": "YG22IKJTNY5P",
        "outputId": "77924019-36ca-471a-da94-030162ef229f"
      },
      "outputs": [],
      "source": [
        "# sns.displot(companyValues['change'], binrange = ([-5, 5]))"
      ]
    },
    {
      "cell_type": "code",
      "execution_count": 15,
      "metadata": {
        "colab": {
          "base_uri": "https://localhost:8080/",
          "height": 387
        },
        "id": "IJ1htyBqNyJt",
        "outputId": "ddd68780-d3d8-4c01-e652-e3d6f3649e02"
      },
      "outputs": [],
      "source": [
        "# # labeling\n",
        "# # binary\n",
        "# for i in range(len(companyValues)):\n",
        "#   if companyValues.loc[i, 'change'] < 0:\n",
        "#     companyValues.loc[i, 'label'] = 0 \n",
        "#   else:\n",
        "#     companyValues.loc[i, 'label'] = 1\n"
      ]
    },
    {
      "cell_type": "code",
      "execution_count": 16,
      "metadata": {
        "id": "35sbUoxlWNqI"
      },
      "outputs": [],
      "source": [
        "# # splitting data by companies\n",
        "# companies = ['APPL', 'GOOG', 'GOOGL', 'MSFT', 'TSLA']\n",
        "\n",
        "# for c in companies:\n",
        "#     df = companyValues[companyValues['ticker_symbol'] == f'c']\n",
        "#     df.to_csv(f\"data/{c}data.csv\", index = False)"
      ]
    },
    {
      "cell_type": "code",
      "execution_count": 17,
      "metadata": {
        "colab": {
          "base_uri": "https://localhost:8080/",
          "height": 592
        },
        "id": "bAP3hSqgO3fx",
        "outputId": "e65c54a1-dd26-4964-c268-70444f089fc5"
      },
      "outputs": [],
      "source": [
        "# width  = 0.9   # width of real body\n",
        "# width2 = 0.05\n",
        "# for c in companies:\n",
        "#        df = pd.read_csv(f'data/{c}data.csv')\n",
        "#        for i in range(30, len(df)):\n",
        "#               fig, ax = plt.subplots(figsize=(2, 2), dpi=50)\n",
        "#               fig.patch.set_facecolor('black')\n",
        "#               plt.axis('off')\n",
        "              \n",
        "#               # find the rows that are bullish\n",
        "#               dfSlice = df[i-30:i]\n",
        "#               dfup = dfSlice[dfSlice[\"close_value\"] >= dfSlice[\"open_value\"]]\n",
        "              \n",
        "#               # find the rows that are bearish\n",
        "#               dfdown = dfSlice[dfSlice[\"close_value\"] < dfSlice[\"open_value\"]]\n",
        "              \n",
        "#               # plot the bullish candle stick\n",
        "#               ax.bar(dfup.index, dfup.close_value - dfup.open_value, width, \n",
        "#                      bottom = dfup.open_value, edgecolor='g', color='green')\n",
        "#               ax.bar(dfup.index, dfup.high_value - dfup.close_value, width2, \n",
        "#                      bottom = dfup.close_value, edgecolor='g', color='green')\n",
        "#               ax.bar(dfup.index, dfup.low_value - dfup.open_value, width2, \n",
        "#                      bottom = dfup.open_value, edgecolor='g', color='green')\n",
        "              \n",
        "#               # plot the bearish candle stick\n",
        "#               ax.bar(dfdown.index, dfdown.close_value - dfdown.open_value, width, \n",
        "#                      bottom = dfdown.open_value, edgecolor='r', color='red')\n",
        "#               ax.bar(dfdown.index, dfdown.high_value - dfdown.open_value, width2, \n",
        "#                      bottom = dfdown.open_value, edgecolor='r', color='red')\n",
        "#               ax.bar(dfdown.index, dfdown.low_value - dfdown.close_value, width2, \n",
        "#                      bottom = dfdown.close_value, edgecolor='r', color='red')\n",
        "#               ax.grid(color='gray')\n",
        "\n",
        "#               fig.savefig(f'data/images/{c}_{i}_{int(df.loc[i, \"label\"])}.png')\n",
        "#               plt.close()"
      ]
    },
    {
      "cell_type": "code",
      "execution_count": 25,
      "metadata": {},
      "outputs": [],
      "source": [
        "# companies = ['APPL', 'GOOG', 'GOOGL', 'MSFT', 'TSLA']\n",
        "# imageNames = pd.DataFrame(columns=['fileName', 'label'])\n",
        "\n",
        "# for c in companies:\n",
        "#        df = pd.read_csv(f'data/{c}data.csv')\n",
        "#        for i in range(30, len(df)):\n",
        "#             imageNames.loc[len(imageNames)] = [f'{c}_{i}_{int(df.loc[i, \"label\"])}', int(df.loc[i, \"label\"])]"
      ]
    },
    {
      "cell_type": "code",
      "execution_count": 26,
      "metadata": {},
      "outputs": [],
      "source": [
        "# for companyName in companies:\n",
        "#     df = imageNames[imageNames['fileName'].str.contains(f'{companyName}')]\n",
        "#     df.to_csv(f'data/{companyName}.csv', index=False)"
      ]
    },
    {
      "cell_type": "code",
      "execution_count": 18,
      "metadata": {},
      "outputs": [],
      "source": [
        "companies = ['APPL',] # 'GOOG', 'GOOGL', 'MSFT', 'TSLA']\n",
        "x = []\n",
        "y = []\n",
        "\n",
        "for c in companies:\n",
        "    with open(f'data/{c}.csv', newline='') as f:\n",
        "        reader = csv.reader(f)\n",
        "        for row in reader:\n",
        "            x.append(row[0])\n",
        "            y.append(row[1])\n",
        "x = x[1:]\n",
        "y = [int(i) for i in y[1:]]\n",
        "\n",
        "x = np.array(x)\n",
        "y = np.array(y)"
      ]
    },
    {
      "cell_type": "code",
      "execution_count": 19,
      "metadata": {},
      "outputs": [],
      "source": [
        "# convert images to array of pixels\n",
        "pixels = np.zeros(shape=(3055, 100, 100))\n",
        "\n",
        "for i in range(len(x)):\n",
        "  image = Image.open('data/images/'+ x[i] + '.png', mode='r').convert('L')\n",
        "  data = asarray(image)\n",
        "  pixels[i] = data"
      ]
    },
    {
      "cell_type": "code",
      "execution_count": 20,
      "metadata": {},
      "outputs": [
        {
          "data": {
            "text/plain": [
              "<matplotlib.image.AxesImage at 0x131622910>"
            ]
          },
          "execution_count": 20,
          "metadata": {},
          "output_type": "execute_result"
        },
        {
          "data": {
            "image/png": "[encoded data removed]",
            "text/plain": [
              "<Figure size 432x288 with 1 Axes>"
            ]
          },
          "metadata": {
            "needs_background": "light"
          },
          "output_type": "display_data"
        }
      ],
      "source": [
        "# check if images are loaded correctly\n",
        "plt.imshow(pixels[0])"
      ]
    },
    {
      "cell_type": "code",
      "execution_count": 21,
      "metadata": {},
      "outputs": [],
      "source": [
        "pixels = pixels / 255.0 # normalization\n",
        "\n",
        "# splitting the dataset into train and test\n",
        "X_train, X_test, Y_train, Y_test = train_test_split(pixels, y, test_size = 0.2, random_state=2) "
      ]
    },
    {
      "cell_type": "code",
      "execution_count": 29,
      "metadata": {},
      "outputs": [],
      "source": [
        "#https://www.kaggle.com/code/kanncaa1/convolutional-neural-network-cnn-tutorial/notebook\n",
        "import tensorflow as tf\n",
        "from sklearn.metrics import confusion_matrix\n",
        "import itertools\n",
        "\n",
        "from keras.utils.np_utils import to_categorical # convert to one-hot-encoding\n",
        "from keras.models import Sequential\n",
        "from keras.layers import Dense, Dropout, Flatten, Conv2D, MaxPool2D\n",
        "from keras.optimizers import RMSprop,Adam\n",
        "from keras.preprocessing.image import ImageDataGenerator\n",
        "from keras.callbacks import ReduceLROnPlateau\n",
        "\n",
        "model = Sequential()\n",
        "\n",
        "model.add(Conv2D(filters = 8, kernel_size = (3, 3),padding = 'Same', activation ='relu', input_shape = (100,100, 1)))\n",
        "model.add(MaxPool2D(pool_size=(2,2)))\n",
        "# model.add(Dropout(0.25))\n",
        "\n",
        "model.add(Conv2D(filters = 16, kernel_size = (3,3),padding = 'Same', activation ='relu'))\n",
        "model.add(MaxPool2D(pool_size=(2,2), strides=(2,2)))\n",
        "# model.add(Dropout(0.25))\n",
        "\n",
        "model.add(Conv2D(filters = 32, kernel_size = (3,3),padding = 'Same', activation ='relu'))\n",
        "model.add(MaxPool2D(pool_size=(2,2), strides=(2,2)))\n",
        "model.add(Dropout(0.25))\n",
        "\n",
        "# fully connected\n",
        "model.add(Flatten())\n",
        "model.add(Dense(256, activation = \"relu\"))\n",
        "model.add(Dense(128, activation = \"relu\"))\n",
        "model.add(Dense(64, activation = \"relu\"))\n",
        "\n",
        "model.add(Dense(1, activation = \"softmax\"))"
      ]
    },
    {
      "cell_type": "code",
      "execution_count": 30,
      "metadata": {},
      "outputs": [],
      "source": [
        "model.compile(optimizer = 'adam' , loss = \"categorical_crossentropy\", metrics=[\"accuracy\"])\n",
        "# model.summary()"
      ]
    },
    {
      "cell_type": "code",
      "execution_count": 31,
      "metadata": {},
      "outputs": [
        {
          "name": "stdout",
          "output_type": "stream",
          "text": [
            "Epoch 1/15\n"
          ]
        },
        {
          "name": "stderr",
          "output_type": "stream",
          "text": [
            "2022-10-07 16:38:51.178923: I tensorflow/core/grappler/optimizers/custom_graph_optimizer_registry.cc:113] Plugin optimizer for device_type GPU is enabled.\n"
          ]
        },
        {
          "name": "stdout",
          "output_type": "stream",
          "text": [
            "5/5 [==============================] - ETA: 0s - loss: 0.0000e+00 - accuracy: 0.5061"
          ]
        },
        {
          "name": "stderr",
          "output_type": "stream",
          "text": [
            "2022-10-07 16:38:54.855052: I tensorflow/core/grappler/optimizers/custom_graph_optimizer_registry.cc:113] Plugin optimizer for device_type GPU is enabled.\n"
          ]
        },
        {
          "name": "stdout",
          "output_type": "stream",
          "text": [
            "5/5 [==============================] - 4s 497ms/step - loss: 0.0000e+00 - accuracy: 0.5061 - val_loss: 0.0000e+00 - val_accuracy: 0.5205\n",
            "Epoch 2/15\n",
            "5/5 [==============================] - 1s 232ms/step - loss: 0.0000e+00 - accuracy: 0.5061 - val_loss: 0.0000e+00 - val_accuracy: 0.5205\n",
            "Epoch 3/15\n",
            "5/5 [==============================] - 1s 232ms/step - loss: 0.0000e+00 - accuracy: 0.5061 - val_loss: 0.0000e+00 - val_accuracy: 0.5205\n",
            "Epoch 4/15\n",
            "5/5 [==============================] - 1s 222ms/step - loss: 0.0000e+00 - accuracy: 0.5061 - val_loss: 0.0000e+00 - val_accuracy: 0.5205\n",
            "Epoch 5/15\n",
            "5/5 [==============================] - 1s 224ms/step - loss: 0.0000e+00 - accuracy: 0.5061 - val_loss: 0.0000e+00 - val_accuracy: 0.5205\n",
            "Epoch 6/15\n",
            "5/5 [==============================] - 1s 240ms/step - loss: 0.0000e+00 - accuracy: 0.5061 - val_loss: 0.0000e+00 - val_accuracy: 0.5205\n",
            "Epoch 7/15\n",
            "5/5 [==============================] - 1s 224ms/step - loss: 0.0000e+00 - accuracy: 0.5061 - val_loss: 0.0000e+00 - val_accuracy: 0.5205\n",
            "Epoch 8/15\n",
            "5/5 [==============================] - 1s 226ms/step - loss: 0.0000e+00 - accuracy: 0.5061 - val_loss: 0.0000e+00 - val_accuracy: 0.5205\n",
            "Epoch 9/15\n",
            "5/5 [==============================] - 1s 218ms/step - loss: 0.0000e+00 - accuracy: 0.5061 - val_loss: 0.0000e+00 - val_accuracy: 0.5205\n",
            "Epoch 10/15\n",
            "5/5 [==============================] - 1s 222ms/step - loss: 0.0000e+00 - accuracy: 0.5061 - val_loss: 0.0000e+00 - val_accuracy: 0.5205\n",
            "Epoch 11/15\n",
            "5/5 [==============================] - 1s 227ms/step - loss: 0.0000e+00 - accuracy: 0.5061 - val_loss: 0.0000e+00 - val_accuracy: 0.5205\n",
            "Epoch 12/15\n",
            "5/5 [==============================] - 1s 277ms/step - loss: 0.0000e+00 - accuracy: 0.5061 - val_loss: 0.0000e+00 - val_accuracy: 0.5205\n",
            "Epoch 13/15\n",
            "5/5 [==============================] - 1s 244ms/step - loss: 0.0000e+00 - accuracy: 0.5061 - val_loss: 0.0000e+00 - val_accuracy: 0.5205\n",
            "Epoch 14/15\n",
            "5/5 [==============================] - 1s 225ms/step - loss: 0.0000e+00 - accuracy: 0.5061 - val_loss: 0.0000e+00 - val_accuracy: 0.5205\n",
            "Epoch 15/15\n",
            "5/5 [==============================] - 1s 224ms/step - loss: 0.0000e+00 - accuracy: 0.5061 - val_loss: 0.0000e+00 - val_accuracy: 0.5205\n"
          ]
        }
      ],
      "source": [
        "epochs = 15  # for better result increase the epochs\n",
        "batch_size = 512\n",
        "\n",
        "#fit the model\n",
        "history = model.fit(X_train,Y_train, batch_size=batch_size, epochs = epochs, validation_data = (X_test,Y_test),)# steps_per_epoch=X_train.shape[0] // batch_size)\n",
        "                              "
      ]
    },
    {
      "cell_type": "code",
      "execution_count": null,
      "metadata": {},
      "outputs": [],
      "source": []
    }
  ],
  "metadata": {
    "colab": {
      "collapsed_sections": [],
      "provenance": []
    },
    "kernelspec": {
      "display_name": "PricePrediction",
      "language": "python",
      "name": "priceprediction"
    },
    "language_info": {
      "codemirror_mode": {
        "name": "ipython",
        "version": 3
      },
      "file_extension": ".py",
      "mimetype": "text/x-python",
      "name": "python",
      "nbconvert_exporter": "python",
      "pygments_lexer": "ipython3",
      "version": "3.8.13"
    },
    "vscode": {
      "interpreter": {
        "hash": "6e5faf62805d7b8ce400d01003224ab0fbd3df5d4be41d5aa3f3101880f03c5c"
      }
    }
  },
  "nbformat": 4,
  "nbformat_minor": 0
}
