{
  "cells": [
    {
      "cell_type": "code",
      "execution_count": 1,
      "metadata": {
        "id": "zaiRhN9tLFBV"
      },
      "outputs": [],
      "source": [
        "import pandas as pd\n",
        "import numpy as np\n",
        "import matplotlib.pyplot as plt\n",
        "import seaborn as sns\n",
        "from PIL import Image\n",
        "# import os\n",
        "from numpy import asarray\n",
        "import re\n",
        "from sklearn.model_selection import train_test_split\n",
        "import csv\n",
        "import tensorflow as tf\n",
        "from sklearn.metrics import confusion_matrix, ConfusionMatrixDisplay\n",
        "# import itertools\n",
        "from keras.utils import np_utils\n",
        "\n",
        "\n",
        "from keras.utils.np_utils import to_categorical # convert to one-hot-encoding\n",
        "from keras.models import Sequential\n",
        "from keras.layers import Dense, Dropout, Flatten, Conv2D, MaxPool2D\n",
        "# from keras.optimizers import RMSprop,Adam\n",
        "# from keras.preprocessing.image import ImageDataGenerator\n",
        "# from keras.callbacks import ReduceLROnPlateau"
      ]
    },
    {
      "cell_type": "code",
      "execution_count": 2,
      "metadata": {},
      "outputs": [],
      "source": [
        "# read the image file names and corresponding labels\n",
        "def read_labels(company_name):\n",
        "    x = []\n",
        "    y = []\n",
        "\n",
        "    with open(f'data/{company_name}.csv', newline='') as f:\n",
        "        reader = csv.reader(f)\n",
        "        for row in reader:\n",
        "            x.append(row[0])\n",
        "            y.append(row[1])\n",
        "    x = x[1:]\n",
        "    y = [int(i) for i in y[1:]]\n",
        "\n",
        "    x = np.array(x)\n",
        "    y = np.array(y)\n",
        "\n",
        "    return x, y"
      ]
    },
    {
      "cell_type": "code",
      "execution_count": 3,
      "metadata": {},
      "outputs": [],
      "source": [
        "# convert images to array of pixels\n",
        "def read_pixels(x):\n",
        "  pixels = np.zeros(shape=(len(x), 100, 100, 4))\n",
        "\n",
        "  for i in range(len(x)):\n",
        "    image = Image.open('data/images/'+ x[i] + '.png', mode='r')#.convert('L')\n",
        "    data = asarray(image)\n",
        "    pixels[i] = data\n",
        "  pixels = pixels / 255.0 # normalization\n",
        "\n",
        "  return pixels"
      ]
    },
    {
      "cell_type": "code",
      "execution_count": 4,
      "metadata": {},
      "outputs": [
        {
          "data": {
            "text/plain": [
              "<matplotlib.image.AxesImage at 0x166f49be0>"
            ]
          },
          "execution_count": 4,
          "metadata": {},
          "output_type": "execute_result"
        },
        {
          "data": {
            "image/png": "[encoded data removed]",
            "text/plain": [
              "<Figure size 432x288 with 1 Axes>"
            ]
          },
          "metadata": {
            "needs_background": "light"
          },
          "output_type": "display_data"
        }
      ],
      "source": [
        "# check if images are loaded correctly\n",
        "x = read_labels('AAPL')[0]\n",
        "plt.imshow(read_pixels(x)[0])"
      ]
    },
    {
      "cell_type": "code",
      "execution_count": 5,
      "metadata": {},
      "outputs": [],
      "source": [
        "def trainTestSplit(pixels, y, test_size = 0.2):\n",
        "    # splitting the dataset into train and test\n",
        "    X_train, X_test, Y_train, Y_test = train_test_split(pixels, y, test_size=test_size, random_state=2) \n",
        "    # one-hot encoding\n",
        "    Y_train = np_utils.to_categorical(Y_train, num_classes=2)\n",
        "    Y_test = np_utils.to_categorical(Y_test, num_classes=2)\n",
        "    \n",
        "    return X_train, X_test, Y_train, Y_test"
      ]
    },
    {
      "cell_type": "code",
      "execution_count": 6,
      "metadata": {},
      "outputs": [],
      "source": [
        "def model():\n",
        "    #https://www.kaggle.com/code/kanncaa1/convolutional-neural-network-cnn-tutorial/notebook\n",
        "    model = Sequential()\n",
        "\n",
        "    model.add(Conv2D(filters = 8, kernel_size = (3, 3),padding = 'same', activation ='relu', input_shape = (100, 100, 4)))\n",
        "    model.add(MaxPool2D(pool_size=(2,2)))\n",
        "    model.add(Dropout(0.2))\n",
        "    model.add(Conv2D(filters = 16, kernel_size = (3,3),padding = 'same', activation ='relu'))\n",
        "    model.add(Conv2D(filters = 32, kernel_size = (3,3),padding = 'same', activation ='relu'))\n",
        "\n",
        "    # fully connected\n",
        "    model.add(Flatten())\n",
        "    model.add(Dense(32, activation = \"relu\"))\n",
        "    model.add(Dense(16, activation = \"relu\"))\n",
        "    model.add(Dense(2, activation = \"softmax\"))\n",
        "\n",
        "    return model"
      ]
    },
    {
      "cell_type": "code",
      "execution_count": 7,
      "metadata": {},
      "outputs": [],
      "source": [
        "def train(model, X_train, Y_train, X_test, Y_test, epochs=30, batch_size=512):\n",
        "    model.compile(optimizer = 'adam' , loss = \"categorical_crossentropy\", metrics=[\"categorical_accuracy\"])\n",
        "\n",
        "    #fit the model\n",
        "    history = model.fit(X_train,Y_train, batch_size=batch_size, epochs = epochs, validation_data = (X_test,Y_test), verbose=0)\n",
        "    Y_pred = model.predict(X_test)\n",
        "    return history, Y_pred"
      ]
    },
    {
      "cell_type": "code",
      "execution_count": 8,
      "metadata": {},
      "outputs": [],
      "source": [
        "def plotTraining(mdl, history, X_test, Y_test):\n",
        "    plt.plot(history.history['categorical_accuracy'], label='categorical_accuracy')\n",
        "    plt.plot(history.history['val_categorical_accuracy'], label = 'val_categorical_accuracy')\n",
        "    plt.xlabel('Epoch')\n",
        "    plt.ylabel('Accuracy')\n",
        "    plt.ylim([0.5, 1])\n",
        "    plt.legend(loc='upper right')\n",
        "\n",
        "    test_loss, test_acc = mdl.evaluate(X_test,  Y_test, verbose=2)"
      ]
    },
    {
      "cell_type": "code",
      "execution_count": 9,
      "metadata": {},
      "outputs": [],
      "source": [
        "def plotConfisionMatrix(Y_test, Y_pred):\n",
        "    Y_test_cm = np.argmax(Y_test, axis = 1)\n",
        "    Y_pred_cm = np.argmax(Y_pred, axis = 1)\n",
        "    cm = confusion_matrix(Y_test_cm, Y_pred_cm, labels=[0, 1])\n",
        "    ConfusionMatrixDisplay(confusion_matrix=cm, display_labels=[0, 1]).plot()\n",
        "    return cm"
      ]
    },
    {
      "cell_type": "code",
      "execution_count": 10,
      "metadata": {},
      "outputs": [],
      "source": [
        "def run(company_name):\n",
        "    x, y = read_labels(company_name)\n",
        "    pixels = read_pixels(x)\n",
        "    X_train, X_test, Y_train, Y_test = trainTestSplit(pixels=pixels, y=y, test_size=0.3)\n",
        "    mdl = model()\n",
        "    history, Y_pred = train(model=mdl, batch_size=512,  epochs=30, X_train=X_train, Y_train=Y_train, X_test=X_test, Y_test=Y_test,)\n",
        "    plotTraining(mdl, history, X_test, Y_test)\n",
        "    plotConfisionMatrix(Y_test, Y_pred)"
      ]
    },
    {
      "cell_type": "code",
      "execution_count": 11,
      "metadata": {},
      "outputs": [
        {
          "name": "stderr",
          "output_type": "stream",
          "text": [
            "2022-10-11 22:04:29.470479: I tensorflow/core/common_runtime/pluggable_device/pluggable_device_factory.cc:305] Could not identify NUMA node of platform GPU ID 0, defaulting to 0. Your kernel may not have been built with NUMA support.\n",
            "2022-10-11 22:04:29.470641: I tensorflow/core/common_runtime/pluggable_device/pluggable_device_factory.cc:271] Created TensorFlow device (/job:localhost/replica:0/task:0/device:GPU:0 with 0 MB memory) -> physical PluggableDevice (device: 0, name: METAL, pci bus id: <undefined>)\n"
          ]
        },
        {
          "name": "stdout",
          "output_type": "stream",
          "text": [
            "Metal device set to: Apple M1\n",
            "\n",
            "systemMemory: 8.00 GB\n",
            "maxCacheSize: 2.67 GB\n",
            "\n"
          ]
        },
        {
          "name": "stderr",
          "output_type": "stream",
          "text": [
            "2022-10-11 22:04:30.101925: W tensorflow/core/platform/profile_utils/cpu_utils.cc:128] Failed to get CPU frequency: 0 Hz\n",
            "2022-10-11 22:04:30.371154: I tensorflow/core/grappler/optimizers/custom_graph_optimizer_registry.cc:113] Plugin optimizer for device_type GPU is enabled.\n",
            "2022-10-11 22:04:32.458558: I tensorflow/core/grappler/optimizers/custom_graph_optimizer_registry.cc:113] Plugin optimizer for device_type GPU is enabled.\n"
          ]
        },
        {
          "name": "stdout",
          "output_type": "stream",
          "text": [
            " 5/29 [====>.........................] - ETA: 0s"
          ]
        },
        {
          "name": "stderr",
          "output_type": "stream",
          "text": [
            "2022-10-11 22:05:19.382813: I tensorflow/core/grappler/optimizers/custom_graph_optimizer_registry.cc:113] Plugin optimizer for device_type GPU is enabled.\n"
          ]
        },
        {
          "name": "stdout",
          "output_type": "stream",
          "text": [
            "29/29 [==============================] - 1s 26ms/step\n",
            "29/29 - 1s - loss: 0.7657 - categorical_accuracy: 0.5213 - 825ms/epoch - 28ms/step\n"
          ]
        },
        {
          "data": {
            "image/png": "[encoded data removed]",
            "text/plain": [
              "<Figure size 432x288 with 1 Axes>"
            ]
          },
          "metadata": {
            "needs_background": "light"
          },
          "output_type": "display_data"
        },
        {
          "data": {
            "image/png": "[encoded data removed]",
            "text/plain": [
              "<Figure size 432x288 with 2 Axes>"
            ]
          },
          "metadata": {
            "needs_background": "light"
          },
          "output_type": "display_data"
        }
      ],
      "source": [
        "run('AMZN')"
      ]
    },
    {
      "cell_type": "code",
      "execution_count": null,
      "metadata": {},
      "outputs": [],
      "source": []
    }
  ],
  "metadata": {
    "colab": {
      "collapsed_sections": [],
      "provenance": []
    },
    "kernelspec": {
      "display_name": "PricePrediction",
      "language": "python",
      "name": "priceprediction"
    },
    "language_info": {
      "codemirror_mode": {
        "name": "ipython",
        "version": 3
      },
      "file_extension": ".py",
      "mimetype": "text/x-python",
      "name": "python",
      "nbconvert_exporter": "python",
      "pygments_lexer": "ipython3",
      "version": "3.8.13"
    },
    "vscode": {
      "interpreter": {
        "hash": "6e5faf62805d7b8ce400d01003224ab0fbd3df5d4be41d5aa3f3101880f03c5c"
      }
    }
  },
  "nbformat": 4,
  "nbformat_minor": 0
}
