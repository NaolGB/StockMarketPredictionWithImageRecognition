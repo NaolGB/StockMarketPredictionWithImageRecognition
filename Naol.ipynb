{
  "cells": [
    {
      "cell_type": "code",
      "execution_count": 2,
      "metadata": {
        "id": "zaiRhN9tLFBV"
      },
      "outputs": [],
      "source": [
        "import pandas as pd\n",
        "import numpy as np\n",
        "import matplotlib.pyplot as plt\n",
        "import seaborn as sns"
      ]
    },
    {
      "cell_type": "code",
      "execution_count": 3,
      "metadata": {
        "id": "6ZMsEa2eMAxi"
      },
      "outputs": [],
      "source": [
        "companyValues = pd.read_csv('data/CompanyValues.csv')"
      ]
    },
    {
      "cell_type": "code",
      "execution_count": 4,
      "metadata": {
        "id": "oPXANw7yNnZw"
      },
      "outputs": [],
      "source": [
        "companyValues['change'] = 100 * ((companyValues['close_value'] - companyValues['open_value']) / companyValues['open_value'])"
      ]
    },
    {
      "cell_type": "code",
      "execution_count": 5,
      "metadata": {
        "colab": {
          "base_uri": "https://localhost:8080/",
          "height": 387
        },
        "id": "IJ1htyBqNyJt",
        "outputId": "ddd68780-d3d8-4c01-e652-e3d6f3649e02"
      },
      "outputs": [
        {
          "data": {
            "text/plain": [
              "<seaborn.axisgrid.FacetGrid at 0x10a9339d0>"
            ]
          },
          "execution_count": 5,
          "metadata": {},
          "output_type": "execute_result"
        },
        {
          "data": {
            "image/png": "[encoded data removed]",
            "text/plain": [
              "<Figure size 360x360 with 1 Axes>"
            ]
          },
          "metadata": {
            "needs_background": "light"
          },
          "output_type": "display_data"
        }
      ],
      "source": [
        "sns.displot(companyValues['change'], binrange = ([-5, 5]))"
      ]
    },
    {
      "cell_type": "code",
      "execution_count": 6,
      "metadata": {
        "id": "slt3t2k-N6bU"
      },
      "outputs": [],
      "source": [
        "# labeling\n",
        "# binary\n",
        "for i in range(len(companyValues)):\n",
        "  if companyValues.loc[i, 'change'] < 0:\n",
        "    companyValues.loc[i, 'label'] = 0 \n",
        "  else:\n",
        "    companyValues.loc[i, 'label'] = 1\n"
      ]
    },
    {
      "cell_type": "code",
      "execution_count": 7,
      "metadata": {
        "id": "35sbUoxlWNqI"
      },
      "outputs": [],
      "source": [
        "# splitting data by companies\n",
        "\n",
        "apple = companyValues[companyValues['ticker_symbol'] == 'AAPL']\n",
        "apple.to_csv(\"data/APPLdata.csv\", index = False)\n",
        "googl = companyValues[companyValues['ticker_symbol'] == 'GOOGL']\n",
        "googl.to_csv(\"data/GOOGLdata.csv\", index = False)\n",
        "goog = companyValues[companyValues['ticker_symbol'] == 'GOOG']\n",
        "goog.to_csv(\"data/GOOGdata.csv\", index = False)\n",
        "tesla = companyValues[companyValues['ticker_symbol'] == 'TSLA']\n",
        "tesla.to_csv(\"data/TSLAdata.csv\", index = False)\n",
        "microsoft = companyValues[companyValues['ticker_symbol'] == 'MSFT']\n",
        "microsoft.to_csv(\"data/MSFTdata.csv\", index = False)"
      ]
    },
    {
      "cell_type": "code",
      "execution_count": 8,
      "metadata": {
        "id": "RMoq-R7-aJ5n"
      },
      "outputs": [],
      "source": [
        "# checking the size of each company data\n",
        "\n",
        "apple_size = apple.shape[0]\n",
        "googl_size = googl.shape[0]\n",
        "goog_size = goog.shape[0]\n",
        "tesla_size = tesla.shape[0]\n",
        "microsoft_size = microsoft.shape[0]\n",
        "\n",
        "## Every company has around 3000 data points "
      ]
    },
    {
      "cell_type": "code",
      "execution_count": 9,
      "metadata": {
        "colab": {
          "base_uri": "https://localhost:8080/",
          "height": 592
        },
        "id": "bAP3hSqgO3fx",
        "outputId": "e65c54a1-dd26-4964-c268-70444f089fc5"
      },
      "outputs": [],
      "source": [
        "# companies = ['APPL', 'GOOG', 'GOOGL', 'MSFT', 'TSLA']\n",
        "\n",
        "# width  = 0.9   # width of real body\n",
        "# width2 = 0.05\n",
        "# for c in companies:\n",
        "#        df = pd.read_csv(f'data/{c}data.csv')\n",
        "#        for i in range(30, len(df)):\n",
        "#               fig, ax = plt.subplots(figsize=(2, 2), dpi=50)\n",
        "#               fig.patch.set_facecolor('black')\n",
        "#               plt.axis('off')\n",
        "              \n",
        "#               # find the rows that are bullish\n",
        "#               dfSlice = df[i-30:i]\n",
        "#               dfup = dfSlice[dfSlice[\"close_value\"] >= dfSlice[\"open_value\"]]\n",
        "              \n",
        "#               # find the rows that are bearish\n",
        "#               dfdown = dfSlice[dfSlice[\"close_value\"] < dfSlice[\"open_value\"]]\n",
        "              \n",
        "#               # plot the bullish candle stick\n",
        "#               ax.bar(dfup.index, dfup.close_value - dfup.open_value, width, \n",
        "#                      bottom = dfup.open_value, edgecolor='g', color='green')\n",
        "#               ax.bar(dfup.index, dfup.high_value - dfup.close_value, width2, \n",
        "#                      bottom = dfup.close_value, edgecolor='g', color='green')\n",
        "#               ax.bar(dfup.index, dfup.low_value - dfup.open_value, width2, \n",
        "#                      bottom = dfup.open_value, edgecolor='g', color='green')\n",
        "              \n",
        "#               # plot the bearish candle stick\n",
        "#               ax.bar(dfdown.index, dfdown.close_value - dfdown.open_value, width, \n",
        "#                      bottom = dfdown.open_value, edgecolor='r', color='red')\n",
        "#               ax.bar(dfdown.index, dfdown.high_value - dfdown.open_value, width2, \n",
        "#                      bottom = dfdown.open_value, edgecolor='r', color='red')\n",
        "#               ax.bar(dfdown.index, dfdown.low_value - dfdown.close_value, width2, \n",
        "#                      bottom = dfdown.close_value, edgecolor='r', color='red')\n",
        "#               ax.grid(color='gray')\n",
        "\n",
        "#               fig.savefig(f'data/images/{c}_{i}_{int(df.loc[i, \"label\"])}.png')\n",
        "#               plt.close()"
      ]
    },
    {
      "cell_type": "code",
      "execution_count": 10,
      "metadata": {},
      "outputs": [],
      "source": [
        "companies = ['APPL', 'GOOG', 'GOOGL', 'MSFT', 'TSLA']\n",
        "imageNames = pd.DataFrame(columns=['fileName', 'label'])\n",
        "\n",
        "for c in companies:\n",
        "       df = pd.read_csv(f'data/{c}data.csv')\n",
        "       for i in range(30, len(df)):\n",
        "            imageNames.loc[len(imageNames)] = [f'{c}_{i}_{int(df.loc[i, \"label\"])}', int(df.loc[i, \"label\"])]"
      ]
    },
    {
      "cell_type": "code",
      "execution_count": 12,
      "metadata": {},
      "outputs": [],
      "source": [
        "for companyName in companies:\n",
        "    df = imageNames[imageNames['fileName'].str.contains(f'{companyName}')]\n",
        "    df.to_csv(f'data/{companyName}.csv', index=False)"
      ]
    },
    {
      "cell_type": "code",
      "execution_count": null,
      "metadata": {},
      "outputs": [],
      "source": []
    }
  ],
  "metadata": {
    "colab": {
      "collapsed_sections": [],
      "provenance": []
    },
    "kernelspec": {
      "display_name": "Python 3.9.13 64-bit",
      "language": "python",
      "name": "python3"
    },
    "language_info": {
      "codemirror_mode": {
        "name": "ipython",
        "version": 3
      },
      "file_extension": ".py",
      "mimetype": "text/x-python",
      "name": "python",
      "nbconvert_exporter": "python",
      "pygments_lexer": "ipython3",
      "version": "3.9.13"
    },
    "vscode": {
      "interpreter": {
        "hash": "949777d72b0d2535278d3dc13498b2535136f6dfe0678499012e853ee9abcab1"
      }
    }
  },
  "nbformat": 4,
  "nbformat_minor": 0
}
