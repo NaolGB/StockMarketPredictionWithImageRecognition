{
 "cells": [
  {
   "cell_type": "markdown",
   "metadata": {},
   "source": [
    "We generated candlestick images in this file."
   ]
  },
  {
   "cell_type": "code",
   "execution_count": 2,
   "metadata": {},
   "outputs": [],
   "source": [
    "import numpy as np\n",
    "import pandas as pd\n",
    "import matplotlib.pyplot as plt\n",
    "import seaborn as sns"
   ]
  },
  {
   "cell_type": "code",
   "execution_count": 3,
   "metadata": {},
   "outputs": [],
   "source": [
    "companyValues = pd.read_csv('data/CompanyValues.csv')"
   ]
  },
  {
   "cell_type": "code",
   "execution_count": 4,
   "metadata": {},
   "outputs": [],
   "source": [
    "companies = companyValues[\"ticker_symbol\"].unique() \n"
   ]
  },
  {
   "cell_type": "code",
   "execution_count": 39,
   "metadata": {},
   "outputs": [],
   "source": [
    "width  = 0.9   # width of real body\n",
    "width2 = 0.05\n",
    "for c in companies:\n",
    "    df = pd.read_csv(f'data/{c}data.csv')\n",
    "    for i in range(30, len(df)):\n",
    "        fig, ax = plt.subplots(figsize=(2, 2), dpi=50)\n",
    "        fig.patch.set_facecolor('black')\n",
    "        plt.axis('off')\n",
    "              \n",
    "        # find the rows that are bullish\n",
    "        dfSlice = df[i-30:i]\n",
    "        dfup = dfSlice[dfSlice[\"close_value\"] >= dfSlice[\"open_value\"]]\n",
    "              \n",
    "        # find the rows that are bearish\n",
    "        dfdown = dfSlice[dfSlice[\"close_value\"] < dfSlice[\"open_value\"]]\n",
    "              \n",
    "        # plot the bullish candle stick\n",
    "        ax.bar(dfup.index, dfup.close_value - dfup.open_value, width, \n",
    "                    bottom = dfup.open_value, edgecolor='g', color='green')\n",
    "        ax.bar(dfup.index, dfup.high_value - dfup.close_value, width2, \n",
    "                     bottom = dfup.close_value, edgecolor='g', color='green')\n",
    "        ax.bar(dfup.index, dfup.low_value - dfup.open_value, width2, \n",
    "                      bottom = dfup.open_value, edgecolor='g', color='green')\n",
    "              \n",
    "        # plot the bearish candle stick\n",
    "        ax.bar(dfdown.index, dfdown.close_value - dfdown.open_value, width, \n",
    "                      bottom = dfdown.open_value, edgecolor='r', color='red')\n",
    "        ax.bar(dfdown.index, dfdown.high_value - dfdown.open_value, width2, \n",
    "                      bottom = dfdown.open_value, edgecolor='r', color='red')\n",
    "        ax.bar(dfdown.index, dfdown.low_value - dfdown.close_value, width2, \n",
    "                      bottom = dfdown.close_value, edgecolor='r', color='red')\n",
    "        ax.grid(color='gray')\n",
    "\n",
    "        fig.savefig(f'data/images/{c}_{i}_{int(df.loc[i, \"label\"])}.png')\n",
    "        plt.close()"
   ]
  },
  {
   "cell_type": "code",
   "execution_count": 6,
   "metadata": {},
   "outputs": [],
   "source": [
    "# recording the image file name and label for later use\n",
    "imageNames = pd.DataFrame(columns=['fileName', 'label'])\n",
    "\n",
    "for c in companies:\n",
    "       df = pd.read_csv(f'data/{c}data.csv')\n",
    "       for i in range(30, len(df)):\n",
    "            imageNames.loc[len(imageNames)] = [f'{c}_{i}_{int(df.loc[i, \"label\"])}', int(df.loc[i, \"label\"])]"
   ]
  },
  {
   "cell_type": "code",
   "execution_count": 7,
   "metadata": {},
   "outputs": [],
   "source": [
    "# creating files for each company to read labels along with the images\n",
    "\n",
    "for companyName in companies:\n",
    "    df = imageNames[imageNames['fileName'].str.contains(f'{companyName}')]\n",
    "    df.to_csv(f'data/{companyName}.csv', index=False)"
   ]
  },
  {
   "cell_type": "code",
   "execution_count": null,
   "metadata": {},
   "outputs": [],
   "source": []
  }
 ],
 "metadata": {
  "kernelspec": {
   "display_name": "Python 3.9.13 64-bit",
   "language": "python",
   "name": "python3"
  },
  "language_info": {
   "codemirror_mode": {
    "name": "ipython",
    "version": 3
   },
   "file_extension": ".py",
   "mimetype": "text/x-python",
   "name": "python",
   "nbconvert_exporter": "python",
   "pygments_lexer": "ipython3",
   "version": "3.9.13"
  },
  "orig_nbformat": 4,
  "vscode": {
   "interpreter": {
    "hash": "949777d72b0d2535278d3dc13498b2535136f6dfe0678499012e853ee9abcab1"
   }
  }
 },
 "nbformat": 4,
 "nbformat_minor": 2
}
