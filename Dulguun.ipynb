{
  "cells": [
    {
      "cell_type": "code",
      "execution_count": 47,
      "metadata": {
        "id": "zaiRhN9tLFBV"
      },
      "outputs": [],
      "source": [
        "import pandas as pd\n",
        "import numpy as np\n",
        "import matplotlib.pyplot as plt\n",
        "import seaborn as sns"
      ]
    },
    {
      "cell_type": "code",
      "execution_count": 8,
      "metadata": {
        "id": "6ZMsEa2eMAxi"
      },
      "outputs": [],
      "source": [
        "companyValues = pd.read_csv('CompanyValues.csv')"
      ]
    },
    {
      "cell_type": "code",
      "execution_count": 9,
      "metadata": {
        "id": "oPXANw7yNnZw"
      },
      "outputs": [],
      "source": [
        "companyValues['change'] = 100 * ((companyValues['close_value'] - companyValues['open_value']) / companyValues['open_value'])"
      ]
    },
    {
      "cell_type": "code",
      "execution_count": 10,
      "metadata": {
        "colab": {
          "base_uri": "https://localhost:8080/",
          "height": 206
        },
        "id": "6WZXHNkjLxW3",
        "outputId": "96afae7c-6c3c-4ac8-d8d8-531da367567a"
      },
      "outputs": [
        {
          "data": {
            "text/html": [
              "<div>\n",
              "<style scoped>\n",
              "    .dataframe tbody tr th:only-of-type {\n",
              "        vertical-align: middle;\n",
              "    }\n",
              "\n",
              "    .dataframe tbody tr th {\n",
              "        vertical-align: top;\n",
              "    }\n",
              "\n",
              "    .dataframe thead th {\n",
              "        text-align: right;\n",
              "    }\n",
              "</style>\n",
              "<table border=\"1\" class=\"dataframe\">\n",
              "  <thead>\n",
              "    <tr style=\"text-align: right;\">\n",
              "      <th></th>\n",
              "      <th>ticker_symbol</th>\n",
              "      <th>day_date</th>\n",
              "      <th>close_value</th>\n",
              "      <th>volume</th>\n",
              "      <th>open_value</th>\n",
              "      <th>high_value</th>\n",
              "      <th>low_value</th>\n",
              "      <th>change</th>\n",
              "    </tr>\n",
              "  </thead>\n",
              "  <tbody>\n",
              "    <tr>\n",
              "      <th>0</th>\n",
              "      <td>AAPL</td>\n",
              "      <td>2020-05-29</td>\n",
              "      <td>317.94</td>\n",
              "      <td>38399530</td>\n",
              "      <td>319.25</td>\n",
              "      <td>321.15</td>\n",
              "      <td>316.47</td>\n",
              "      <td>-0.410337</td>\n",
              "    </tr>\n",
              "    <tr>\n",
              "      <th>1</th>\n",
              "      <td>AAPL</td>\n",
              "      <td>2020-05-28</td>\n",
              "      <td>318.25</td>\n",
              "      <td>33449100</td>\n",
              "      <td>316.77</td>\n",
              "      <td>323.44</td>\n",
              "      <td>315.63</td>\n",
              "      <td>0.467216</td>\n",
              "    </tr>\n",
              "    <tr>\n",
              "      <th>2</th>\n",
              "      <td>AAPL</td>\n",
              "      <td>2020-05-27</td>\n",
              "      <td>318.11</td>\n",
              "      <td>28236270</td>\n",
              "      <td>316.14</td>\n",
              "      <td>318.71</td>\n",
              "      <td>313.09</td>\n",
              "      <td>0.623142</td>\n",
              "    </tr>\n",
              "    <tr>\n",
              "      <th>3</th>\n",
              "      <td>AAPL</td>\n",
              "      <td>2020-05-26</td>\n",
              "      <td>316.73</td>\n",
              "      <td>31380450</td>\n",
              "      <td>323.50</td>\n",
              "      <td>324.24</td>\n",
              "      <td>316.50</td>\n",
              "      <td>-2.092736</td>\n",
              "    </tr>\n",
              "    <tr>\n",
              "      <th>4</th>\n",
              "      <td>AAPL</td>\n",
              "      <td>2020-05-22</td>\n",
              "      <td>318.89</td>\n",
              "      <td>20450750</td>\n",
              "      <td>315.77</td>\n",
              "      <td>319.23</td>\n",
              "      <td>315.35</td>\n",
              "      <td>0.988061</td>\n",
              "    </tr>\n",
              "  </tbody>\n",
              "</table>\n",
              "</div>"
            ],
            "text/plain": [
              "  ticker_symbol    day_date  close_value    volume  open_value  high_value  \\\n",
              "0          AAPL  2020-05-29       317.94  38399530      319.25      321.15   \n",
              "1          AAPL  2020-05-28       318.25  33449100      316.77      323.44   \n",
              "2          AAPL  2020-05-27       318.11  28236270      316.14      318.71   \n",
              "3          AAPL  2020-05-26       316.73  31380450      323.50      324.24   \n",
              "4          AAPL  2020-05-22       318.89  20450750      315.77      319.23   \n",
              "\n",
              "   low_value    change  \n",
              "0     316.47 -0.410337  \n",
              "1     315.63  0.467216  \n",
              "2     313.09  0.623142  \n",
              "3     316.50 -2.092736  \n",
              "4     315.35  0.988061  "
            ]
          },
          "execution_count": 10,
          "metadata": {},
          "output_type": "execute_result"
        }
      ],
      "source": [
        "companyValues.head()"
      ]
    },
    {
      "cell_type": "code",
      "execution_count": 11,
      "metadata": {
        "colab": {
          "base_uri": "https://localhost:8080/"
        },
        "id": "YG22IKJTNY5P",
        "outputId": "77924019-36ca-471a-da94-030162ef229f"
      },
      "outputs": [
        {
          "data": {
            "text/plain": [
              "count    17528.000000\n",
              "mean        -0.001356\n",
              "std          1.637464\n",
              "min        -19.753521\n",
              "25%         -0.756510\n",
              "50%          0.001194\n",
              "75%          0.792675\n",
              "max         25.736842\n",
              "Name: change, dtype: float64"
            ]
          },
          "execution_count": 11,
          "metadata": {},
          "output_type": "execute_result"
        }
      ],
      "source": [
        "companyValues['change'].describe()"
      ]
    },
    {
      "cell_type": "code",
      "execution_count": 12,
      "metadata": {
        "colab": {
          "base_uri": "https://localhost:8080/",
          "height": 387
        },
        "id": "IJ1htyBqNyJt",
        "outputId": "ddd68780-d3d8-4c01-e652-e3d6f3649e02"
      },
      "outputs": [
        {
          "data": {
            "text/plain": [
              "<seaborn.axisgrid.FacetGrid at 0x7faf80810bb0>"
            ]
          },
          "execution_count": 12,
          "metadata": {},
          "output_type": "execute_result"
        },
        {
          "data": {
            "image/png": "[encoded data removed]",
            "text/plain": [
              "<Figure size 360x360 with 1 Axes>"
            ]
          },
          "metadata": {
            "needs_background": "light"
          },
          "output_type": "display_data"
        }
      ],
      "source": [
        "sns.displot(companyValues['change'], binrange = ([-5, 5]))"
      ]
    },
    {
      "cell_type": "code",
      "execution_count": 13,
      "metadata": {
        "id": "slt3t2k-N6bU"
      },
      "outputs": [],
      "source": [
        "# labeling\n",
        "# binary\n",
        "for i in range(len(companyValues)):\n",
        "  if companyValues.loc[i, 'change'] < 0:\n",
        "    companyValues.loc[i, 'label'] = 0 \n",
        "  else:\n",
        "    companyValues.loc[i, 'label'] = 1\n"
      ]
    },
    {
      "cell_type": "code",
      "execution_count": 14,
      "metadata": {
        "id": "35sbUoxlWNqI"
      },
      "outputs": [],
      "source": [
        "# splitting data by companies\n",
        "\n",
        "apple = companyValues[companyValues['ticker_symbol'] == 'AAPL']\n",
        "apple.to_csv(\"Apple data.csv\", index = False)\n",
        "googl = companyValues[companyValues['ticker_symbol'] == 'GOOGL']\n",
        "googl.to_csv(\"GOOGL data.csv\", index = False)\n",
        "goog = companyValues[companyValues['ticker_symbol'] == 'GOOG']\n",
        "goog.to_csv(\"GOOG data.csv\", index = False)\n",
        "tesla = companyValues[companyValues['ticker_symbol'] == 'TSLA']\n",
        "tesla.to_csv(\"Tesla data.csv\", index = False)\n",
        "microsoft = companyValues[companyValues['ticker_symbol'] == 'MSFT']\n",
        "microsoft.to_csv(\"Microsoft data.csv\", index = False)"
      ]
    },
    {
      "cell_type": "code",
      "execution_count": 15,
      "metadata": {
        "id": "RMoq-R7-aJ5n"
      },
      "outputs": [],
      "source": [
        "# checking the size of each company data\n",
        "\n",
        "apple_size = apple.shape[0]\n",
        "googl_size = googl.shape[0]\n",
        "goog_size = goog.shape[0]\n",
        "tesla_size = tesla.shape[0]\n",
        "microsoft_size = microsoft.shape[0]\n",
        "\n",
        "## Every company has around 3000 data points "
      ]
    },
    {
      "cell_type": "code",
      "execution_count": 16,
      "metadata": {
        "colab": {
          "base_uri": "https://localhost:8080/",
          "height": 592
        },
        "id": "bAP3hSqgO3fx",
        "outputId": "e65c54a1-dd26-4964-c268-70444f089fc5"
      },
      "outputs": [
        {
          "data": {
            "image/png": "[encoded data removed]",
            "text/plain": [
              "<Figure size 1080x720 with 1 Axes>"
            ]
          },
          "metadata": {
            "needs_background": "light"
          },
          "output_type": "display_data"
        }
      ],
      "source": [
        "import matplotlib.pyplot as plt\n",
        "width  = 0.9   # width of real body\n",
        "width2 = 0.05  # width of shadow\n",
        "fig, ax = plt.subplots(figsize=(15,10))\n",
        "# find the rows that are bullish\n",
        "companyValues = companyValues[:100]\n",
        "dfup = companyValues[companyValues[\"close_value\"] >= companyValues[\"open_value\"]]\n",
        "# find the rows that are bearish\n",
        "dfdown = companyValues[companyValues[\"close_value\"] < companyValues[\"open_value\"]]\n",
        "# plot the bullish candle stick\n",
        "ax.bar(dfup.index, dfup.close_value - dfup.open_value, width, \n",
        "       bottom = dfup.open_value, edgecolor='g', color='green')\n",
        "ax.bar(dfup.index, dfup.high_value - dfup.close_value, width2, \n",
        "       bottom = dfup.close_value, edgecolor='g', color='green')\n",
        "ax.bar(dfup.index, dfup.low_value - dfup.open_value, width2, \n",
        "       bottom = dfup.open_value, edgecolor='g', color='green')\n",
        "# plot the bearish candle stick\n",
        "ax.bar(dfdown.index, dfdown.close_value - dfdown.open_value, width, \n",
        "       bottom = dfdown.open_value, edgecolor='r', color='red')\n",
        "ax.bar(dfdown.index, dfdown.high_value - dfdown.open_value, width2, \n",
        "       bottom = dfdown.open_value, edgecolor='r', color='red')\n",
        "ax.bar(dfdown.index, dfdown.low_value - dfdown.close_value, width2, \n",
        "       bottom = dfdown.close_value, edgecolor='r', color='red')\n",
        "ax.grid(color='gray')"
      ]
    },
    {
      "cell_type": "code",
      "execution_count": 20,
      "metadata": {
        "id": "G9m3naTzR4BN"
      },
      "outputs": [],
      "source": [
        "from PIL import Image\n",
        "import os\n",
        "from numpy import asarray\n",
        "import re\n",
        "from sklearn.model_selection import train_test_split\n"
      ]
    },
    {
      "cell_type": "code",
      "execution_count": 84,
      "metadata": {},
      "outputs": [
        {
          "data": {
            "text/plain": [
              "['APPL']"
            ]
          },
          "execution_count": 84,
          "metadata": {},
          "output_type": "execute_result"
        }
      ],
      "source": [
        "import csv\n",
        "companies = ['APPL',] # 'GOOG', 'GOOGL', 'MSFT', 'TSLA']\n",
        "x = []\n",
        "y = []\n",
        "\n",
        "for c in companies:\n",
        "    with open(f'data/{c}.csv', newline='') as f:\n",
        "        reader = csv.reader(f)\n",
        "        for row in reader:\n",
        "            x.append(row[0])\n",
        "            y.append(row[1])\n",
        "x = x[1:]\n",
        "y = [int(i) for i in y[1:]]\n",
        "\n",
        "        # print([row for row in reader])\n",
        "\n",
        "# print(y)\n",
        "companies"
      ]
    },
    {
      "cell_type": "code",
      "execution_count": 86,
      "metadata": {},
      "outputs": [],
      "source": [
        "x = np.array(x)\n",
        "y = np.array(y)"
      ]
    },
    {
      "cell_type": "code",
      "execution_count": 128,
      "metadata": {},
      "outputs": [],
      "source": [
        "# convert images to array of pixels\n",
        "\n",
        "pixels = np.zeros(shape=(3055, 100, 100))\n",
        "# images = os.listdir('images/')\n",
        "\n",
        "for i in range(len(x)):\n",
        "  # if i == '.DS_Store':\n",
        "  #   images.remove(i)\n",
        "  # else:\n",
        "  image = Image.open('data/images/'+ x[i] + '.png', mode='r').convert('L')\n",
        "  data = asarray(image)\n",
        "  pixels[i] = data\n",
        "  #np.append(pixels, data)\n",
        "  # pixels.append(data)\n",
        "#len(pixels) \n",
        "# size = (14292, 100, 100, 4)\n",
        "# images"
      ]
    },
    {
      "cell_type": "code",
      "execution_count": 129,
      "metadata": {},
      "outputs": [
        {
          "data": {
            "text/plain": [
              "<matplotlib.image.AxesImage at 0x2bb795fa0>"
            ]
          },
          "execution_count": 129,
          "metadata": {},
          "output_type": "execute_result"
        },
        {
          "data": {
            "image/png": "[encoded data removed]",
            "text/plain": [
              "<Figure size 432x288 with 1 Axes>"
            ]
          },
          "metadata": {
            "needs_background": "light"
          },
          "output_type": "display_data"
        }
      ],
      "source": [
        "plt.imshow(pixels[0])"
      ]
    },
    {
      "cell_type": "code",
      "execution_count": 90,
      "metadata": {},
      "outputs": [
        {
          "data": {
            "text/plain": [
              "(100, 100, 4)"
            ]
          },
          "execution_count": 90,
          "metadata": {},
          "output_type": "execute_result"
        }
      ],
      "source": [
        "pixels[0].shape"
      ]
    },
    {
      "cell_type": "code",
      "execution_count": 91,
      "metadata": {},
      "outputs": [],
      "source": [
        "pixels = pixels / 255.0 # normalization\n",
        "\n",
        "#labels = ...\n",
        "\n",
        "X_train, X_test, Y_train, Y_test = train_test_split(pixels, y, test_size = 0.2, random_state=2) # splitting the dataset into train and test"
      ]
    },
    {
      "cell_type": "code",
      "execution_count": 92,
      "metadata": {},
      "outputs": [
        {
          "data": {
            "text/plain": [
              "array([0, 1, 1, ..., 1, 0, 1])"
            ]
          },
          "execution_count": 92,
          "metadata": {},
          "output_type": "execute_result"
        }
      ],
      "source": [
        "Y_train"
      ]
    },
    {
      "cell_type": "code",
      "execution_count": 120,
      "metadata": {},
      "outputs": [],
      "source": [
        "#https://www.kaggle.com/code/kanncaa1/convolutional-neural-network-cnn-tutorial/notebook\n",
        "import tensorflow as tf\n",
        "from sklearn.metrics import confusion_matrix\n",
        "import itertools\n",
        "\n",
        "from keras.utils.np_utils import to_categorical # convert to one-hot-encoding\n",
        "from keras.models import Sequential\n",
        "from keras.layers import Dense, Dropout, Flatten, Conv2D, MaxPool2D\n",
        "from keras.optimizers import RMSprop,Adam\n",
        "from keras.preprocessing.image import ImageDataGenerator\n",
        "from keras.callbacks import ReduceLROnPlateau\n",
        "\n",
        "model = Sequential()\n",
        "#\n",
        "model.add(Conv2D(filters = 8, kernel_size = (3, 3),padding = 'Same', activation ='relu', input_shape = (100,100,4)))\n",
        "model.add(MaxPool2D(pool_size=(2,2)))\n",
        "# model.add(Dropout(0.25))\n",
        "#\n",
        "model.add(Conv2D(filters = 16, kernel_size = (3,3),padding = 'Same', activation ='relu'))\n",
        "model.add(MaxPool2D(pool_size=(2,2), strides=(2,2)))\n",
        "# model.add(Dropout(0.25))\n",
        "\n",
        "model.add(Conv2D(filters = 32, kernel_size = (3,3),padding = 'Same', activation ='relu'))\n",
        "model.add(MaxPool2D(pool_size=(2,2), strides=(2,2)))\n",
        "model.add(Dropout(0.25))\n",
        "\n",
        "# fully connected\n",
        "model.add(Flatten())\n",
        "model.add(Dense(256, activation = \"relu\"))\n",
        "model.add(Dense(128, activation = \"relu\"))\n",
        "model.add(Dense(64, activation = \"relu\"))\n",
        "# model.add(Dropout(0.2))\n",
        "model.add(Dense(1, activation = \"softmax\"))"
      ]
    },
    {
      "cell_type": "code",
      "execution_count": 121,
      "metadata": {},
      "outputs": [],
      "source": [
        "# optimizer = Adam(lr=0.01, beta_1=0.9, beta_2=0.999) # using Adam optimizer with learning rate 0.001\n",
        "\n",
        "model.compile(optimizer = 'adam' , loss = \"categorical_crossentropy\", metrics=[\"accuracy\"])\n",
        "# model.summary()"
      ]
    },
    {
      "cell_type": "code",
      "execution_count": 122,
      "metadata": {},
      "outputs": [
        {
          "name": "stdout",
          "output_type": "stream",
          "text": [
            "Epoch 1/15\n"
          ]
        },
        {
          "name": "stderr",
          "output_type": "stream",
          "text": [
            "2022-10-07 15:55:52.217593: I tensorflow/core/grappler/optimizers/custom_graph_optimizer_registry.cc:113] Plugin optimizer for device_type GPU is enabled.\n"
          ]
        },
        {
          "name": "stdout",
          "output_type": "stream",
          "text": [
            "5/5 [==============================] - 3s 518ms/step - loss: 0.0000e+00 - accuracy: 0.5061 - val_loss: 0.0000e+00 - val_accuracy: 0.5205\n",
            "Epoch 2/15\n"
          ]
        },
        {
          "name": "stderr",
          "output_type": "stream",
          "text": [
            "2022-10-07 15:55:54.733008: I tensorflow/core/grappler/optimizers/custom_graph_optimizer_registry.cc:113] Plugin optimizer for device_type GPU is enabled.\n"
          ]
        },
        {
          "name": "stdout",
          "output_type": "stream",
          "text": [
            "5/5 [==============================] - 1s 296ms/step - loss: 0.0000e+00 - accuracy: 0.5061 - val_loss: 0.0000e+00 - val_accuracy: 0.5205\n",
            "Epoch 3/15\n",
            "5/5 [==============================] - 1s 286ms/step - loss: 0.0000e+00 - accuracy: 0.5061 - val_loss: 0.0000e+00 - val_accuracy: 0.5205\n",
            "Epoch 4/15\n",
            "5/5 [==============================] - 1s 265ms/step - loss: 0.0000e+00 - accuracy: 0.5061 - val_loss: 0.0000e+00 - val_accuracy: 0.5205\n",
            "Epoch 5/15\n",
            "5/5 [==============================] - 2s 304ms/step - loss: 0.0000e+00 - accuracy: 0.5061 - val_loss: 0.0000e+00 - val_accuracy: 0.5205\n",
            "Epoch 6/15\n",
            "5/5 [==============================] - 1s 276ms/step - loss: 0.0000e+00 - accuracy: 0.5061 - val_loss: 0.0000e+00 - val_accuracy: 0.5205\n",
            "Epoch 7/15\n",
            "5/5 [==============================] - 1s 266ms/step - loss: 0.0000e+00 - accuracy: 0.5061 - val_loss: 0.0000e+00 - val_accuracy: 0.5205\n",
            "Epoch 8/15\n",
            "5/5 [==============================] - 1s 279ms/step - loss: 0.0000e+00 - accuracy: 0.5061 - val_loss: 0.0000e+00 - val_accuracy: 0.5205\n",
            "Epoch 9/15\n",
            "5/5 [==============================] - 1s 256ms/step - loss: 0.0000e+00 - accuracy: 0.5061 - val_loss: 0.0000e+00 - val_accuracy: 0.5205\n",
            "Epoch 10/15\n",
            "5/5 [==============================] - 1s 252ms/step - loss: 0.0000e+00 - accuracy: 0.5061 - val_loss: 0.0000e+00 - val_accuracy: 0.5205\n",
            "Epoch 11/15\n",
            "5/5 [==============================] - 1s 262ms/step - loss: 0.0000e+00 - accuracy: 0.5061 - val_loss: 0.0000e+00 - val_accuracy: 0.5205\n",
            "Epoch 12/15\n",
            "5/5 [==============================] - 1s 254ms/step - loss: 0.0000e+00 - accuracy: 0.5061 - val_loss: 0.0000e+00 - val_accuracy: 0.5205\n",
            "Epoch 13/15\n",
            "5/5 [==============================] - 1s 261ms/step - loss: 0.0000e+00 - accuracy: 0.5061 - val_loss: 0.0000e+00 - val_accuracy: 0.5205\n",
            "Epoch 14/15\n",
            "5/5 [==============================] - 1s 253ms/step - loss: 0.0000e+00 - accuracy: 0.5061 - val_loss: 0.0000e+00 - val_accuracy: 0.5205\n",
            "Epoch 15/15\n",
            "5/5 [==============================] - 1s 272ms/step - loss: 0.0000e+00 - accuracy: 0.5061 - val_loss: 0.0000e+00 - val_accuracy: 0.5205\n"
          ]
        }
      ],
      "source": [
        "epochs = 15  # for better result increase the epochs\n",
        "batch_size = 512\n",
        "\n",
        "#fit the model\n",
        "history = model.fit(X_train,Y_train, batch_size=batch_size, epochs = epochs, validation_data = (X_test,Y_test),)# steps_per_epoch=X_train.shape[0] // batch_size)\n",
        "                              "
      ]
    },
    {
      "cell_type": "code",
      "execution_count": null,
      "metadata": {},
      "outputs": [],
      "source": []
    }
  ],
  "metadata": {
    "colab": {
      "collapsed_sections": [],
      "provenance": []
    },
    "kernelspec": {
      "display_name": "PricePrediction",
      "language": "python",
      "name": "priceprediction"
    },
    "language_info": {
      "codemirror_mode": {
        "name": "ipython",
        "version": 3
      },
      "file_extension": ".py",
      "mimetype": "text/x-python",
      "name": "python",
      "nbconvert_exporter": "python",
      "pygments_lexer": "ipython3",
      "version": "3.8.13"
    },
    "vscode": {
      "interpreter": {
        "hash": "6e5faf62805d7b8ce400d01003224ab0fbd3df5d4be41d5aa3f3101880f03c5c"
      }
    }
  },
  "nbformat": 4,
  "nbformat_minor": 0
}
