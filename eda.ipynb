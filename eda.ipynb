{
 "cells": [
  {
   "cell_type": "code",
   "execution_count": 1,
   "metadata": {},
   "outputs": [],
   "source": [
    "import pandas as pd\n",
    "import matplotlib.pyplot as plt\n",
    "import seaborn as sns"
   ]
  },
  {
   "cell_type": "code",
   "execution_count": 2,
   "metadata": {},
   "outputs": [],
   "source": [
    "allCompanies = pd.read_csv('data/CompanyValues.csv')"
   ]
  },
  {
   "cell_type": "code",
   "execution_count": 3,
   "metadata": {},
   "outputs": [],
   "source": [
    "allCompanies['change'] = 100 * ((allCompanies['close_value'] - allCompanies['open_value']) / allCompanies['open_value'])"
   ]
  },
  {
   "cell_type": "code",
   "execution_count": 4,
   "metadata": {},
   "outputs": [],
   "source": [
    "allCompanies = pd.read_csv('data/CompanyValues.csv')"
   ]
  },
  {
   "cell_type": "code",
   "execution_count": 5,
   "metadata": {},
   "outputs": [
    {
     "data": {
      "text/html": [
       "<div>\n",
       "<style scoped>\n",
       "    .dataframe tbody tr th:only-of-type {\n",
       "        vertical-align: middle;\n",
       "    }\n",
       "\n",
       "    .dataframe tbody tr th {\n",
       "        vertical-align: top;\n",
       "    }\n",
       "\n",
       "    .dataframe thead th {\n",
       "        text-align: right;\n",
       "    }\n",
       "</style>\n",
       "<table border=\"1\" class=\"dataframe\">\n",
       "  <thead>\n",
       "    <tr style=\"text-align: right;\">\n",
       "      <th></th>\n",
       "      <th>ticker_symbol</th>\n",
       "      <th>day_date</th>\n",
       "      <th>close_value</th>\n",
       "      <th>volume</th>\n",
       "      <th>open_value</th>\n",
       "      <th>high_value</th>\n",
       "      <th>low_value</th>\n",
       "    </tr>\n",
       "  </thead>\n",
       "  <tbody>\n",
       "    <tr>\n",
       "      <th>0</th>\n",
       "      <td>AAPL</td>\n",
       "      <td>2020-05-29</td>\n",
       "      <td>317.94</td>\n",
       "      <td>38399530</td>\n",
       "      <td>319.25</td>\n",
       "      <td>321.15</td>\n",
       "      <td>316.47</td>\n",
       "    </tr>\n",
       "    <tr>\n",
       "      <th>1</th>\n",
       "      <td>AAPL</td>\n",
       "      <td>2020-05-28</td>\n",
       "      <td>318.25</td>\n",
       "      <td>33449100</td>\n",
       "      <td>316.77</td>\n",
       "      <td>323.44</td>\n",
       "      <td>315.63</td>\n",
       "    </tr>\n",
       "    <tr>\n",
       "      <th>2</th>\n",
       "      <td>AAPL</td>\n",
       "      <td>2020-05-27</td>\n",
       "      <td>318.11</td>\n",
       "      <td>28236270</td>\n",
       "      <td>316.14</td>\n",
       "      <td>318.71</td>\n",
       "      <td>313.09</td>\n",
       "    </tr>\n",
       "    <tr>\n",
       "      <th>3</th>\n",
       "      <td>AAPL</td>\n",
       "      <td>2020-05-26</td>\n",
       "      <td>316.73</td>\n",
       "      <td>31380450</td>\n",
       "      <td>323.50</td>\n",
       "      <td>324.24</td>\n",
       "      <td>316.50</td>\n",
       "    </tr>\n",
       "    <tr>\n",
       "      <th>4</th>\n",
       "      <td>AAPL</td>\n",
       "      <td>2020-05-22</td>\n",
       "      <td>318.89</td>\n",
       "      <td>20450750</td>\n",
       "      <td>315.77</td>\n",
       "      <td>319.23</td>\n",
       "      <td>315.35</td>\n",
       "    </tr>\n",
       "  </tbody>\n",
       "</table>\n",
       "</div>"
      ],
      "text/plain": [
       "  ticker_symbol    day_date  close_value    volume  open_value  high_value  \\\n",
       "0          AAPL  2020-05-29       317.94  38399530      319.25      321.15   \n",
       "1          AAPL  2020-05-28       318.25  33449100      316.77      323.44   \n",
       "2          AAPL  2020-05-27       318.11  28236270      316.14      318.71   \n",
       "3          AAPL  2020-05-26       316.73  31380450      323.50      324.24   \n",
       "4          AAPL  2020-05-22       318.89  20450750      315.77      319.23   \n",
       "\n",
       "   low_value  \n",
       "0     316.47  \n",
       "1     315.63  \n",
       "2     313.09  \n",
       "3     316.50  \n",
       "4     315.35  "
      ]
     },
     "execution_count": 5,
     "metadata": {},
     "output_type": "execute_result"
    }
   ],
   "source": [
    "allCompanies.head()"
   ]
  },
  {
   "cell_type": "code",
   "execution_count": 6,
   "metadata": {},
   "outputs": [
    {
     "data": {
      "text/plain": [
       "array(['AAPL', 'AMZN', 'GOOGL', 'GOOG', 'MSFT', 'TSLA'], dtype=object)"
      ]
     },
     "execution_count": 6,
     "metadata": {},
     "output_type": "execute_result"
    }
   ],
   "source": [
    "allCompanies[\"ticker_symbol\"].unique()"
   ]
  },
  {
   "cell_type": "code",
   "execution_count": 7,
   "metadata": {},
   "outputs": [],
   "source": [
    "allCompanies['change'] = 100 * ((allCompanies['close_value'] - allCompanies['open_value']) / allCompanies['open_value'])"
   ]
  },
  {
   "cell_type": "code",
   "execution_count": 9,
   "metadata": {},
   "outputs": [
    {
     "data": {
      "text/html": [
       "<div>\n",
       "<style scoped>\n",
       "    .dataframe tbody tr th:only-of-type {\n",
       "        vertical-align: middle;\n",
       "    }\n",
       "\n",
       "    .dataframe tbody tr th {\n",
       "        vertical-align: top;\n",
       "    }\n",
       "\n",
       "    .dataframe thead th {\n",
       "        text-align: right;\n",
       "    }\n",
       "</style>\n",
       "<table border=\"1\" class=\"dataframe\">\n",
       "  <thead>\n",
       "    <tr style=\"text-align: right;\">\n",
       "      <th></th>\n",
       "      <th>ticker_symbol</th>\n",
       "      <th>day_date</th>\n",
       "      <th>close_value</th>\n",
       "      <th>volume</th>\n",
       "      <th>open_value</th>\n",
       "      <th>high_value</th>\n",
       "      <th>low_value</th>\n",
       "      <th>change</th>\n",
       "    </tr>\n",
       "  </thead>\n",
       "  <tbody>\n",
       "    <tr>\n",
       "      <th>0</th>\n",
       "      <td>AAPL</td>\n",
       "      <td>2020-05-29</td>\n",
       "      <td>317.94</td>\n",
       "      <td>38399530</td>\n",
       "      <td>319.25</td>\n",
       "      <td>321.15</td>\n",
       "      <td>316.4700</td>\n",
       "      <td>-0.410337</td>\n",
       "    </tr>\n",
       "    <tr>\n",
       "      <th>1</th>\n",
       "      <td>AAPL</td>\n",
       "      <td>2020-05-28</td>\n",
       "      <td>318.25</td>\n",
       "      <td>33449100</td>\n",
       "      <td>316.77</td>\n",
       "      <td>323.44</td>\n",
       "      <td>315.6300</td>\n",
       "      <td>0.467216</td>\n",
       "    </tr>\n",
       "    <tr>\n",
       "      <th>2</th>\n",
       "      <td>AAPL</td>\n",
       "      <td>2020-05-27</td>\n",
       "      <td>318.11</td>\n",
       "      <td>28236270</td>\n",
       "      <td>316.14</td>\n",
       "      <td>318.71</td>\n",
       "      <td>313.0900</td>\n",
       "      <td>0.623142</td>\n",
       "    </tr>\n",
       "    <tr>\n",
       "      <th>3</th>\n",
       "      <td>AAPL</td>\n",
       "      <td>2020-05-26</td>\n",
       "      <td>316.73</td>\n",
       "      <td>31380450</td>\n",
       "      <td>323.50</td>\n",
       "      <td>324.24</td>\n",
       "      <td>316.5000</td>\n",
       "      <td>-2.092736</td>\n",
       "    </tr>\n",
       "    <tr>\n",
       "      <th>4</th>\n",
       "      <td>AAPL</td>\n",
       "      <td>2020-05-22</td>\n",
       "      <td>318.89</td>\n",
       "      <td>20450750</td>\n",
       "      <td>315.77</td>\n",
       "      <td>319.23</td>\n",
       "      <td>315.3500</td>\n",
       "      <td>0.988061</td>\n",
       "    </tr>\n",
       "    <tr>\n",
       "      <th>...</th>\n",
       "      <td>...</td>\n",
       "      <td>...</td>\n",
       "      <td>...</td>\n",
       "      <td>...</td>\n",
       "      <td>...</td>\n",
       "      <td>...</td>\n",
       "      <td>...</td>\n",
       "      <td>...</td>\n",
       "    </tr>\n",
       "    <tr>\n",
       "      <th>17523</th>\n",
       "      <td>TSLA</td>\n",
       "      <td>2019-12-21</td>\n",
       "      <td>405.59</td>\n",
       "      <td>14785210</td>\n",
       "      <td>410.29</td>\n",
       "      <td>413.00</td>\n",
       "      <td>400.1850</td>\n",
       "      <td>-1.145531</td>\n",
       "    </tr>\n",
       "    <tr>\n",
       "      <th>17524</th>\n",
       "      <td>TSLA</td>\n",
       "      <td>2019-12-22</td>\n",
       "      <td>405.59</td>\n",
       "      <td>14785210</td>\n",
       "      <td>410.29</td>\n",
       "      <td>413.00</td>\n",
       "      <td>400.1850</td>\n",
       "      <td>-1.145531</td>\n",
       "    </tr>\n",
       "    <tr>\n",
       "      <th>17525</th>\n",
       "      <td>TSLA</td>\n",
       "      <td>2019-12-25</td>\n",
       "      <td>425.25</td>\n",
       "      <td>8054720</td>\n",
       "      <td>418.36</td>\n",
       "      <td>425.47</td>\n",
       "      <td>412.6875</td>\n",
       "      <td>1.646907</td>\n",
       "    </tr>\n",
       "    <tr>\n",
       "      <th>17526</th>\n",
       "      <td>TSLA</td>\n",
       "      <td>2019-12-28</td>\n",
       "      <td>430.38</td>\n",
       "      <td>9956827</td>\n",
       "      <td>435.00</td>\n",
       "      <td>435.31</td>\n",
       "      <td>426.1100</td>\n",
       "      <td>-1.062069</td>\n",
       "    </tr>\n",
       "    <tr>\n",
       "      <th>17527</th>\n",
       "      <td>TSLA</td>\n",
       "      <td>2019-12-29</td>\n",
       "      <td>430.38</td>\n",
       "      <td>9956827</td>\n",
       "      <td>435.00</td>\n",
       "      <td>435.31</td>\n",
       "      <td>426.1100</td>\n",
       "      <td>-1.062069</td>\n",
       "    </tr>\n",
       "  </tbody>\n",
       "</table>\n",
       "<p>17528 rows × 8 columns</p>\n",
       "</div>"
      ],
      "text/plain": [
       "      ticker_symbol    day_date  close_value    volume  open_value  \\\n",
       "0              AAPL  2020-05-29       317.94  38399530      319.25   \n",
       "1              AAPL  2020-05-28       318.25  33449100      316.77   \n",
       "2              AAPL  2020-05-27       318.11  28236270      316.14   \n",
       "3              AAPL  2020-05-26       316.73  31380450      323.50   \n",
       "4              AAPL  2020-05-22       318.89  20450750      315.77   \n",
       "...             ...         ...          ...       ...         ...   \n",
       "17523          TSLA  2019-12-21       405.59  14785210      410.29   \n",
       "17524          TSLA  2019-12-22       405.59  14785210      410.29   \n",
       "17525          TSLA  2019-12-25       425.25   8054720      418.36   \n",
       "17526          TSLA  2019-12-28       430.38   9956827      435.00   \n",
       "17527          TSLA  2019-12-29       430.38   9956827      435.00   \n",
       "\n",
       "       high_value  low_value    change  \n",
       "0          321.15   316.4700 -0.410337  \n",
       "1          323.44   315.6300  0.467216  \n",
       "2          318.71   313.0900  0.623142  \n",
       "3          324.24   316.5000 -2.092736  \n",
       "4          319.23   315.3500  0.988061  \n",
       "...           ...        ...       ...  \n",
       "17523      413.00   400.1850 -1.145531  \n",
       "17524      413.00   400.1850 -1.145531  \n",
       "17525      425.47   412.6875  1.646907  \n",
       "17526      435.31   426.1100 -1.062069  \n",
       "17527      435.31   426.1100 -1.062069  \n",
       "\n",
       "[17528 rows x 8 columns]"
      ]
     },
     "execution_count": 9,
     "metadata": {},
     "output_type": "execute_result"
    }
   ],
   "source": [
    "allCompanies"
   ]
  },
  {
   "cell_type": "code",
   "execution_count": 10,
   "metadata": {},
   "outputs": [],
   "source": [
    "mu = allCompanies['change'].mean()\n",
    "std = allCompanies['change'].std()"
   ]
  },
  {
   "cell_type": "code",
   "execution_count": 11,
   "metadata": {},
   "outputs": [
    {
     "data": {
      "text/plain": [
       "count    17528.000000\n",
       "mean        -0.001356\n",
       "std          1.637464\n",
       "min        -19.753521\n",
       "25%         -0.756510\n",
       "50%          0.001194\n",
       "75%          0.792675\n",
       "max         25.736842\n",
       "Name: change, dtype: float64"
      ]
     },
     "execution_count": 11,
     "metadata": {},
     "output_type": "execute_result"
    }
   ],
   "source": [
    "allCompanies['change'].describe()"
   ]
  },
  {
   "cell_type": "code",
   "execution_count": 13,
   "metadata": {},
   "outputs": [
    {
     "data": {
      "text/plain": [
       "<seaborn.axisgrid.FacetGrid at 0x147283700>"
      ]
     },
     "execution_count": 13,
     "metadata": {},
     "output_type": "execute_result"
    },
    {
     "data": {
      "image/png": "[encoded data removed]",
      "text/plain": [
       "<Figure size 360x360 with 1 Axes>"
      ]
     },
     "metadata": {
      "needs_background": "light"
     },
     "output_type": "display_data"
    }
   ],
   "source": [
    "sns.displot(allCompanies['change'], binrange = ([-5, 5]))"
   ]
  },
  {
   "cell_type": "code",
   "execution_count": null,
   "metadata": {},
   "outputs": [],
   "source": []
  }
 ],
 "metadata": {
  "kernelspec": {
   "display_name": "Python 3.9.13 64-bit",
   "language": "python",
   "name": "python3"
  },
  "language_info": {
   "codemirror_mode": {
    "name": "ipython",
    "version": 3
   },
   "file_extension": ".py",
   "mimetype": "text/x-python",
   "name": "python",
   "nbconvert_exporter": "python",
   "pygments_lexer": "ipython3",
   "version": "3.9.13"
  },
  "orig_nbformat": 4,
  "vscode": {
   "interpreter": {
    "hash": "949777d72b0d2535278d3dc13498b2535136f6dfe0678499012e853ee9abcab1"
   }
  }
 },
 "nbformat": 4,
 "nbformat_minor": 2
}
